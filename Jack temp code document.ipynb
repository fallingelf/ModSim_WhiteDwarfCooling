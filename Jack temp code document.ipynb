{
 "cells": [
  {
   "cell_type": "code",
   "execution_count": 3,
   "metadata": {},
   "outputs": [],
   "source": [
    "# Configure Jupyter so figures appear in the notebook\n",
    "%matplotlib inline\n",
    "# import functions from the modsim.py module\n",
    "from modsim import *"
   ]
  },
  {
   "cell_type": "code",
   "execution_count": null,
   "metadata": {},
   "outputs": [],
   "source": [
    "\"\"\"\n",
    "this code creates a the state of the system\n",
    "star_temp is the themperature of the star\n",
    "star_energy is the internal energy of the star\n",
    "star_mass is the mass of the star\n",
    "surf_area is the surface area of the star\n",
    "\"\"\"\n",
    "#creates the state of the function\n",
    "st8 = State(star_temp = 25000,\n",
    "            env_temp = 2.7,\n",
    "            star_energy = 0,\n",
    "            star_mass = 1.018*constants.solar_mass,\n",
    "            surf_area = 0)\n",
    "\n",
    "#creates the starting energy value of the white dwarf\n",
    "st8.star_energy = temp_to_energy(st8.star_temp,st8.star_mass, constants.carbon_mass_per_mol, constants)\n",
    "\n",
    "\"\"\"\n",
    "creates a system with innital values and constants\n",
    "init is the innital state function\n",
    "emmisivity is an innate property of the materials involved. White dwarfs emmit radiation in a near perfict manner which correlates to them having an emmisivity value of very close to 1\n",
    "density is the density of the white dwarf in kg/m^3 and is found by multiplying the density of the sun times 92,000\"\"\"\n",
    "sys = System(init = st8,\n",
    "            emissivity  = 1,\n",
    "            density = 92000*constants.solar_density)\n",
    "\n",
    "#creates the starting value of the surface area of the white dwarf\n",
    "st8.surf_area = surface_area(st8.star_mass,sys.density, constants)\n",
    "\n",
    "#update the innital value of the state in the system object\n",
    "sys.init = st8"
   ]
  },
  {
   "cell_type": "code",
   "execution_count": 2,
   "metadata": {},
   "outputs": [],
   "source": [
    "def temp_to_energy(temp, mass, masspermol,constants):\n",
    "    \"\"\"\n",
    "    This function converts a temperature into the corrasponding internal energy\n",
    "    temp is the temperature to be converted\n",
    "    mass is the mass of the object which is being measured\n",
    "    masspermol is the mass for one mole of the substance which makes up the object (kg/mol) *this assumes that the object is of uniform composition\n",
    "    constants is a system object containing fundamental physics constants\"\"\"\n",
    "    \n",
    "    #calculates the nuber of particles in the object by calculating the number of mols of the substance and multiplying by avagadro's constant\n",
    "    num_particles = (mass/masspermol)*constants.avagadro\n",
    "    \n",
    "    #returns the internal energy of the object based on the mathmatical formula for an einstein solid\n",
    "    return num_particles*constants.k*temp\n",
    "\n",
    "def surface_area(mass, density, constants):\n",
    "    \"\"\"this function calculates the surface area for a sphere of a given material and uniform composition\n",
    "    mass is the mass of the sphere\n",
    "    density is the duniform density of the material (kg/m^3)\n",
    "    constants is a system object containing fundamental constants\"\"\"\n",
    "    \n",
    "    #calculates the volume of the material\n",
    "    volume = mass/density\n",
    "    \n",
    "    #converts the volume to a sphere and finds the radius\n",
    "    radius = (volume/(4/3)/constants.pi)**(1/3)\n",
    "    \n",
    "    #returns the surface area of the sphere\n",
    "    return 4*constants.pi*(radius**2)"
   ]
  },
  {
   "cell_type": "code",
   "execution_count": null,
   "metadata": {},
   "outputs": [],
   "source": []
  }
 ],
 "metadata": {
  "kernelspec": {
   "display_name": "Python 3",
   "language": "python",
   "name": "python3"
  },
  "language_info": {
   "codemirror_mode": {
    "name": "ipython",
    "version": 3
   },
   "file_extension": ".py",
   "mimetype": "text/x-python",
   "name": "python",
   "nbconvert_exporter": "python",
   "pygments_lexer": "ipython3",
   "version": "3.6.5"
  }
 },
 "nbformat": 4,
 "nbformat_minor": 2
}

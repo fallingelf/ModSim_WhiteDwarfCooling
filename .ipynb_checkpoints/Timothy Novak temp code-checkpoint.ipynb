{
 "cells": [
  {
   "cell_type": "code",
   "execution_count": 1,
   "metadata": {},
   "outputs": [],
   "source": [
    "# Configure Jupyter so figures appear in the notebook\n",
    "%matplotlib inline\n",
    "# import functions from the modsim.py module\n",
    "from modsim import *\n",
    "#import \n",
    "import sympy"
   ]
  },
  {
   "cell_type": "markdown",
   "metadata": {},
   "source": [
    "# Question\n"
   ]
  },
  {
   "cell_type": "markdown",
   "metadata": {},
   "source": [
    "# Model"
   ]
  },
  {
   "cell_type": "markdown",
   "metadata": {},
   "source": [
    "## Constants\n",
    "This is a system object which contains relevant mathmatical and physics related constants"
   ]
  },
  {
   "cell_type": "code",
   "execution_count": 2,
   "metadata": {},
   "outputs": [],
   "source": [
    "\"\"\"Creates a system object which stores all of the relevant physics constants not specific to the situation being modeled\n",
    "c is the speed of light\n",
    "sigma is the Stefan–Boltzmann constant which describes radiative cooling\n",
    "k is the Boltzmann constant (different from sigma) which describes the conversion of temperature to internal energy\n",
    "avagadro is avagadro's constant which is representative of the number of particles in a mol\n",
    "solarmass is the mass of our sun\n",
    "carbon_mass_per_mol gives the mass of one mol of carbon in kg/mol\n",
    "pi is the circle constant of mathmatics\"\"\"\n",
    "constants = System(c = 3*10**(8),\n",
    "                   sigma = 5.6703*10**(-8),\n",
    "                   k = 1.380649*10**(-23), \n",
    "                   avagadro = 6.022140857*10**(23),\n",
    "                   solar_mass = 1.98847*10**40,\n",
    "                   solar_density = 1410,\n",
    "                   carbon_mass_per_mol = 12.011 *10**(-3),\n",
    "                   pi = 3.1415926535,\n",
    "                   year = 31557600)"
   ]
  },
  {
   "cell_type": "markdown",
   "metadata": {},
   "source": [
    "## Useful Functions"
   ]
  },
  {
   "cell_type": "code",
   "execution_count": 3,
   "metadata": {},
   "outputs": [],
   "source": [
    "def surface_area(mass, density, constants):\n",
    "    \"\"\"this function calculates the surface area for a sphere of a given material and uniform composition\n",
    "    mass is the mass of the sphere\n",
    "    density is the duniform density of the material (kg/m^3)\n",
    "    constants is a system object containing fundamental constants\"\"\"\n",
    "    \n",
    "    #calculates the volume of the material\n",
    "    volume = mass/density\n",
    "    \n",
    "    #converts the volume to a sphere and finds the radius\n",
    "    radius = (volume/(4/3)/constants.pi)**(1/3)\n",
    "    \n",
    "    #returns the surface area of the sphere\n",
    "    return 4*constants.pi*(radius**2)"
   ]
  },
  {
   "cell_type": "markdown",
   "metadata": {},
   "source": [
    "## State and System"
   ]
  },
  {
   "cell_type": "code",
   "execution_count": 4,
   "metadata": {},
   "outputs": [],
   "source": [
    "\"\"\"this code creates a the state of the system\n",
    "star_temp is the themperature of the star\n",
    "star_energy is the internal energy of the star\n",
    "star_mass is the mass of the star\n",
    "surf_area is the surface area of the star\"\"\"\n",
    "#creates the state of the function\n",
    "st8 = State(star_temp = 25000)\n",
    "\n",
    "\"\"\"creates a system with innital values and constants\n",
    "init is the innital state function\n",
    "emmisivity is an innate property of the materials involved. White dwarfs emmit radiation in a near perfict manner which correlates to them having an emmisivity value of very close to 1\n",
    "density is the density of the white dwarf in kg/m^3 and is found by multiplying the density of the sun times 92,000\"\"\"\n",
    "sys = System(init = st8,\n",
    "            emissivity  = 1,\n",
    "            density = 92000*constants.solar_density,\n",
    "            dt = constants.year * 10**10,\n",
    "            c = 3*10**(8),\n",
    "            sigma = 5.6703*10**(-8),\n",
    "            k = 1.380649*10**(-23), \n",
    "            avagadro = 6.022140857*10**(23),\n",
    "            solar_mass = 1.98847*10**40,\n",
    "            solar_density = 1410,\n",
    "            carbon_mass_per_mol = 12.011 *10**(-3),\n",
    "            pi = 3.1415926535,\n",
    "            year = 31557600,\n",
    "            t_0 = 0,\n",
    "            t_end = 31557600*10**15,\n",
    "            env_temp = 2.7,\n",
    "            star_mass = 1.018*constants.solar_mass,\n",
    "            surf_area = 1.401707440331564e+22)"
   ]
  },
  {
   "cell_type": "markdown",
   "metadata": {},
   "source": [
    "## update function"
   ]
  },
  {
   "cell_type": "markdown",
   "metadata": {},
   "source": [
    "A differential equation for the temperature was derived from the change in energy formula for an object cooling via radiative cooling as described here: http://hyperphysics.phy-astr.gsu.edu/hbase/thermo/cootime.html"
   ]
  },
  {
   "cell_type": "markdown",
   "metadata": {},
   "source": [
    "$ \\frac{dE_{star}}{dtime}=\\epsilon*\\sigma*A_{surface}*(T_{star}^4 - T_{environmant}^4)$"
   ]
  },
  {
   "cell_type": "markdown",
   "metadata": {},
   "source": [
    "This equation was combined with the expression of internal energy in terms of temperature for an einstein solid as described here: http://hyperphysics.phy-astr.gsu.edu/hbase/Therm/einsol.html#c1 This equation was used to convert internal energy to temperature because calculations involving a specific heat assume a specific heat which is independient of temperature. Due to the exotic nature of the matter studied and the extreme conditions involved, this assumption was infeasable and the einstein solid method was used instead (einstein solids assume that an object is made of n quantum harmonic oscillators whose movements constitute the internal energy of the object)"
   ]
  },
  {
   "cell_type": "markdown",
   "metadata": {},
   "source": [
    "$E_{internal} = N_{particles}*k*T$"
   ]
  },
  {
   "cell_type": "markdown",
   "metadata": {},
   "source": [
    "The number of particles was found by using standard molar conversions assuming that a white dwarf is constituted entirely of carbon"
   ]
  },
  {
   "cell_type": "markdown",
   "metadata": {},
   "source": [
    "$N_{particles} = \\frac{mass}{carbon_{\\frac{mass}{mol}}}*N_{a}$"
   ]
  },
  {
   "cell_type": "code",
   "execution_count": 9,
   "metadata": {},
   "outputs": [],
   "source": [
    "def slope_func(st8,time, sys):\n",
    "    star_temp = st8\n",
    "    #converts the differential equation for the temperature of the star into code this equation is derrived from the \n",
    "    dstar_tempdt = -(sys.emissivity*sys.sigma*sys.surf_area*(star_temp**4 - sys.env_temp**4))/(((sys.star_mass/sys.carbon_mass_per_mol)*sys.avagadro)*sys.k)\n",
    "    #updates the temperature\n",
    "    return dstar_tempdt"
   ]
  },
  {
   "cell_type": "code",
   "execution_count": 15,
   "metadata": {},
   "outputs": [
    {
     "name": "stdout",
     "output_type": "stream",
     "text": [
      "sol                                                      None\n",
      "t_events                                                   []\n",
      "nfev                                                      320\n",
      "njev                                                        0\n",
      "nlu                                                         0\n",
      "status                                                      0\n",
      "message     The solver successfully reached the end of the...\n",
      "success                                                  True\n",
      "dtype: object\n",
      "                 star_temp\n",
      "0.000000e+00  25000.000000\n",
      "3.168809e-12  25000.000000\n",
      "3.485690e-11  25000.000000\n",
      "3.517378e-10  25000.000000\n",
      "3.520547e-09  25000.000000\n",
      "3.520863e-08  25000.000000\n",
      "3.520895e-07  25000.000000\n",
      "3.520898e-06  25000.000000\n",
      "3.520899e-05  25000.000000\n",
      "3.520899e-04  25000.000000\n",
      "3.520899e-03  24999.999998\n",
      "3.520899e-02  24999.999975\n",
      "3.520899e-01  24999.999754\n",
      "3.520899e+00  24999.997538\n",
      "3.520899e+01  24999.975382\n",
      "3.520899e+02  24999.753821\n",
      "3.520899e+03  24997.538649\n",
      "3.520899e+04  24975.430015\n",
      "3.520899e+05  24758.556191\n",
      "3.520899e+06  22933.480666\n",
      "1.748315e+07  18541.697398\n",
      "3.656754e+07  15684.819989\n",
      "7.252224e+07  13036.043982\n",
      "1.323120e+08  10903.581821\n",
      "2.362672e+08   9098.570173\n",
      "4.140547e+08   7598.888400\n",
      "7.199516e+08   6344.392084\n",
      "1.245106e+09   5297.612573\n",
      "2.147407e+09   4423.356495\n",
      "3.697246e+09   3693.434926\n",
      "6.359622e+09   3083.943977\n",
      "1.093297e+10   2575.036670\n",
      "1.878906e+10   2150.106746\n",
      "3.228414e+10   1795.298828\n",
      "5.546586e+10   1499.040710\n",
      "9.528717e+10   1251.670806\n",
      "1.636918e+11   1045.121571\n",
      "2.811966e+11    872.656848\n",
      "4.830450e+11    728.652046\n",
      "8.297781e+11    608.410744\n",
      "1.425393e+12    508.011517\n",
      "2.448533e+12    424.180051\n",
      "4.206073e+12    354.182353\n",
      "7.225157e+12    295.735591\n",
      "1.241131e+13    246.933644\n",
      "2.132003e+13    206.184936\n",
      "3.662333e+13    172.160531\n",
      "6.291120e+13    143.750794\n",
      "1.080682e+14    120.029198\n",
      "1.856386e+14    100.222114\n",
      "3.188881e+14     83.683575\n",
      "5.477829e+14     69.874212\n",
      "9.409761e+14     58.343663\n",
      "1.000000e+15     57.168462\n"
     ]
    },
    {
     "data": {
      "image/png": "[encoded data removed]",
      "text/plain": [
       "<Figure size 432x288 with 1 Axes>"
      ]
     },
     "metadata": {},
     "output_type": "display_data"
    }
   ],
   "source": [
    "results,details = run_ode_solver(sys,slope_func)\n",
    "#results.plot()\n",
    "#print(results)\n",
    "print(details)\n",
    "results.index /= sys.year\n",
    "print(results)\n",
    "results.plot()\n",
    "decorate (xscale = \"log\")"
   ]
  },
  {
   "cell_type": "markdown",
   "metadata": {},
   "source": [
    "# Results"
   ]
  },
  {
   "cell_type": "markdown",
   "metadata": {},
   "source": [
    "# Interperitation"
   ]
  },
  {
   "cell_type": "markdown",
   "metadata": {},
   "source": [
    "# Abstract"
   ]
  },
  {
   "cell_type": "code",
   "execution_count": null,
   "metadata": {},
   "outputs": [],
   "source": []
  }
 ],
 "metadata": {
  "kernelspec": {
   "display_name": "Python 3",
   "language": "python",
   "name": "python3"
  },
  "language_info": {
   "codemirror_mode": {
    "name": "ipython",
    "version": 3
   },
   "file_extension": ".py",
   "mimetype": "text/x-python",
   "name": "python",
   "nbconvert_exporter": "python",
   "pygments_lexer": "ipython3",
   "version": "3.6.6"
  }
 },
 "nbformat": 4,
 "nbformat_minor": 2
}

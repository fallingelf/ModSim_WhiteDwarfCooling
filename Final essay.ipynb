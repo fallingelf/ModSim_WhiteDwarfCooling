{
 "cells": [
  {
   "cell_type": "code",
   "execution_count": 1,
   "metadata": {},
   "outputs": [],
   "source": [
    "# Configure Jupyter so figures appear in the notebook\n",
    "%matplotlib inline\n",
    "# import functions from the modsim.py module\n",
    "from modsim import *"
   ]
  },
  {
   "cell_type": "markdown",
   "metadata": {},
   "source": [
    "# Background"
   ]
  },
  {
   "cell_type": "markdown",
   "metadata": {},
   "source": [
    "White dwarf 'stars' are the remnants of a standard star (0.5 to 8 times the size of our own sun). These constitute the majority of the stars in the universe. For most of its life, a star like this fuses hydrogen into helium emitting light as a result. As the star uses up its hydrogen the energy from the fusion in the star becomes weaker. This energy is what resists the star collapsing due to its own gravity. As the energy dwindles, the star shrinks which causes the temperatures in the core of the star to increase. Gradually it will become hot enough in the core of the sun to fuse helium. Helium starts to fuse and increases the fusion pressure of the star causing the star to expand greatly. The star then enters its red giant phase of its life. Helium is fused into carbon and oxygen, but average stars can never get hot enough to fuse carbon. As the helium is used up the star contracts again. However as it contracts, left over helium and hydrogen re-ignite with the increase in heat. This flings the layers outward expanding the star and cooling the center temperature. Fusion stops and the star collapses again. This is the star's final stage in life where the size of the star oscillates with the outer layers bouncing off the center core. The oscillations get larger and larger as the layers of the star bounce off of each other. This process continues until the star flings its outer layers so far out that they do not gravitationally condense again. This leaves the superhot superdense core of carbon (and a bit of oxygen) which could not be fused. This core is called a white dwarf star (it is called this because it glows a bright white because of residual heat but it is not fusing to create more energy hence it is a 'dwarf star.') The white dwarf radiates its heat away gradually. While it is hot the white dwarf contains enough energy to keep its atoms as an ionized superdense plasma; however, as the energy radiates away the structure crystalizes. The properties of this crystal structure are unknown, but the composition has been likened to diamond (this is not entirely accurate as it is much denser and it contains a significant proportion of oxygen however it is an apt comparison as it demonstrates the possible usefulness of the resultant material)."
   ]
  },
  {
   "cell_type": "markdown",
   "metadata": {},
   "source": [
    "# Question\n"
   ]
  },
  {
   "cell_type": "markdown",
   "metadata": {},
   "source": [
    "How long will it take for a white dwarf star to cool to a harvestable temperature?"
   ]
  },
  {
   "cell_type": "markdown",
   "metadata": {},
   "source": [
    "# Model"
   ]
  },
  {
   "cell_type": "markdown",
   "metadata": {},
   "source": [
    "## Useful Functions\n",
    "This section contains some useful functions for mathmatical operations"
   ]
  },
  {
   "cell_type": "code",
   "execution_count": 2,
   "metadata": {},
   "outputs": [],
   "source": [
    "def surface_area(mass, density, constants):\n",
    "    \"\"\"this function calculates the surface area for a sphere of a given material and uniform composition\n",
    "    mass is the mass of the sphere\n",
    "    density is the duniform density of the material (kg/m^3)\n",
    "    constants is a system object containing fundamental constants\"\"\"\n",
    "    \n",
    "    #calculates the volume of the material\n",
    "    volume = mass/density\n",
    "    \n",
    "    #converts the volume to a sphere and finds the radius\n",
    "    radius = (volume/(4/3)/constants.pi)**(1/3)\n",
    "    \n",
    "    #returns the surface area of the sphere\n",
    "    return 4*constants.pi*(radius**2)"
   ]
  },
  {
   "cell_type": "markdown",
   "metadata": {},
   "source": [
    "## State and System"
   ]
  },
  {
   "cell_type": "markdown",
   "metadata": {},
   "source": [
    "The system and the state are described below. The state holds the curent value of the state of the white dwarf star in the simulation.The system object holds system parameters and fundamental physics constants. the surface area of the star was calculated using the above surface area function and the result was placed into the system to avoid overwriing system values."
   ]
  },
  {
   "cell_type": "code",
   "execution_count": 3,
   "metadata": {},
   "outputs": [],
   "source": [
    "\"\"\"this code creates a the state of the system\n",
    "star_temp is the themperature of the star\"\"\"\n",
    "#creates the state of the function\n",
    "state = State(star_temp = 25000)\n",
    "\n",
    "\"\"\"creates a system with innital values and constants\n",
    "init is the innital state function\n",
    "emmisivity is an innate property of the materials involved. White dwarfs emmit radiation in a near perfict manner which correlates to them having an emmisivity value of very close to 1\n",
    "density is the density of the white dwarf in kg/m^3 and is found by multiplying the density of the sun (1410) times 92,000\n",
    "c is the speed of light\n",
    "sigma is the Stefan–Boltzmann constant which describes radiative cooling\n",
    "k is the Boltzmann constant (different from sigma) which describes the conversion of temperature to internal energy\n",
    "avagadro is avagadro's constant which is representative of the number of particles in a mol\n",
    "solarmass is the mass of our sun\n",
    "carbon_mass_per_mol gives the mass of one mol of carbon in kg/mol\n",
    "pi is the circle constant of mathmatics\n",
    "star_mass is the mass of the white dwarf which is 1.018* the mass of our sun\n",
    "surf_area is the surface area of the star\"\"\"\n",
    "sys = System(init = state,\n",
    "            emissivity  = 1,\n",
    "            density = 92000*1410,\n",
    "            c = 3*10**(8),\n",
    "            sigma = 5.6703*10**(-8),\n",
    "            k = 1.380649*10**(-23), \n",
    "            avagadro = 6.022140857*10**(23),\n",
    "            solar_mass = 1.98847*10**40,\n",
    "            solar_density = 1410,\n",
    "            carbon_mass_per_mol = 12.011 *10**(-3),\n",
    "            pi = 3.1415926535,\n",
    "            year = 31557600,\n",
    "            t_0 = 0,\n",
    "            t_end = 31557600*10**15,\n",
    "            env_temp = 2.7,\n",
    "            star_mass = 1.018*1.98847*10**40,\n",
    "            surf_area = 1.401707440331564e+22)"
   ]
  },
  {
   "cell_type": "markdown",
   "metadata": {},
   "source": [
    "## update function"
   ]
  },
  {
   "cell_type": "markdown",
   "metadata": {},
   "source": [
    "Because of the complex nature of the white dwarf stars we abstracted the model to a simple model of a sphere of uniform solid density cooling via radiative cooling. To show robustness and prove that this is still a useful model of a white dwarf, two different models were created which used this central assumption.\n"
   ]
  },
  {
   "cell_type": "markdown",
   "metadata": {},
   "source": [
    "### General Raditive Cooling equation"
   ]
  },
  {
   "cell_type": "markdown",
   "metadata": {},
   "source": [
    "For our first model, we started with a generalized differential equation for radiative cooling."
   ]
  },
  {
   "cell_type": "markdown",
   "metadata": {},
   "source": [
    "$ \\frac{dE_{star}}{dtime}=\\epsilon*\\sigma*A_{surface}*(T_{star}^4 - T_{environmant}^4)$"
   ]
  },
  {
   "cell_type": "markdown",
   "metadata": {},
   "source": [
    "We combined this equation with an expression for internal energy in terms of temperature based on an Einstein solid.\n",
    "\n",
    "This method approximates the vibration of each particle as a quantum harmonic oscillator (a particle which is bounded to a set space and oscillates around that space in accordance with the laws of quantum mechanics). The internal energy is then equated as the sum of these vibrations and mathematically simplified to the equation below."
   ]
  },
  {
   "cell_type": "markdown",
   "metadata": {},
   "source": [
    "$E_{internal} = N_{particles}*k*T$"
   ]
  },
  {
   "cell_type": "markdown",
   "metadata": {},
   "source": [
    "A brief note about Einstein solids, they are a very good approximation for the internal energy of a solid in terms of the temperature of the solid because particles in a solid are restricted in such a way that they do behave as near idealized quantum harmonic oscillators. This method was also chosen over the standard specific heat method of converting internal energy to temperature, because specific heat assumes a constant specific heat independent of temperature which is accurate until high temperatures (like those in recently formed white dwarfs). Also the specific heat of white dwarf material has not yet been measured."
   ]
  },
  {
   "cell_type": "markdown",
   "metadata": {},
   "source": [
    "The number of particles was found by using standard molar conversions. For the sake of this calculation we assumed that a white dwarf is constituted entirely of carbon (no specific data on the percent compositions of white dwarfs could be found however there is a consensus that white dwarfs are mostly carbon with a proportion of oxygen which could cause this modeling approximation to be inaccurate)"
   ]
  },
  {
   "cell_type": "markdown",
   "metadata": {},
   "source": [
    "$N_{particles} = \\frac{mass}{carbon_{\\frac{mass}{mol}}}*N_{a}$"
   ]
  },
  {
   "cell_type": "markdown",
   "metadata": {},
   "source": [
    "Thus the final differential equation is the following where $N_{a}$ is Avogadro’s constant and $k$ is the Boltzmann constant"
   ]
  },
  {
   "cell_type": "markdown",
   "metadata": {},
   "source": [
    "$ \\frac{dT_{star}}{dtime}=\\frac{\\epsilon*\\sigma*A_{surface}*(T_{star}^4 - T_{environmant}^4)}{\\frac{mass}{carbon_{\\frac{mass}{mol}}}*N_{a}*k}$"
   ]
  },
  {
   "cell_type": "markdown",
   "metadata": {},
   "source": [
    "This differential equation was then used to create a slope function"
   ]
  },
  {
   "cell_type": "code",
   "execution_count": 4,
   "metadata": {},
   "outputs": [],
   "source": [
    "def rad_gen_slope_func(state,time, sys):\n",
    "    star_temp = state\n",
    "    #converts the differential equation for the temperature into code\n",
    "    dstar_tempdt = -(sys.emissivity*sys.sigma*sys.surf_area*(star_temp**4 - sys.env_temp**4))/(((sys.star_mass/sys.carbon_mass_per_mol)*sys.avagadro)*sys.k)\n",
    "    #updates the temperature\n",
    "    return dstar_tempdt"
   ]
  },
  {
   "cell_type": "markdown",
   "metadata": {},
   "source": [
    "# Results"
   ]
  },
  {
   "cell_type": "markdown",
   "metadata": {},
   "source": [
    "The results for the first model are shown below. The simulation was run by an ODE solver to optimize the time steps that were taken."
   ]
  },
  {
   "cell_type": "code",
   "execution_count": 5,
   "metadata": {},
   "outputs": [
    {
     "data": {
      "image/png": "[encoded data removed]",
      "text/plain": [
       "<Figure size 432x288 with 1 Axes>"
      ]
     },
     "metadata": {},
     "output_type": "display_data"
    }
   ],
   "source": [
    "#runs the simulation with an ODE solver\n",
    "rad_gen_results,e_solid_details = run_ode_solver(sys,rad_gen_slope_func)\n",
    "\n",
    "#Converts the time indexes from years into seconds\n",
    "rad_gen_results.index /= sys.year\n",
    "\n",
    "#plots the results\n",
    "rad_gen_results.plot()\n",
    "\n",
    "#decorates the plot and turns it tnto a semilog plot\n",
    "decorate (xlim = [10,10**15], xscale = \"log\", xlabel = \"Time (years)\", ylabel = \"Star Temperature (K) \", title = \"White Dwarf Star Cooling (General Radiative Cooling)\")"
   ]
  },
  {
   "cell_type": "markdown",
   "metadata": {},
   "source": [
    "# Interperitation"
   ]
  },
  {
   "cell_type": "markdown",
   "metadata": {},
   "source": [
    "Due to the exotic nature of white dwarf mater, the true time it takes for a white dwarf to cool completely is unknown. The accepted value is $10^{15}$ years before it cools to 5K. This number changes depending on the specifics of what happens. (Some argue that it will take longer to cool because the crystallization will release heat back into the star. Others argue that trace metals and oxygen levels can make significant impacts on the cooling time of the star."
   ]
  },
  {
   "cell_type": "markdown",
   "metadata": {},
   "source": [
    "Before we can estimate how long it would take we must see whether our models are reasonable. For that we will compare them to each other and to the $10^{15}$ benchmark."
   ]
  },
  {
   "cell_type": "code",
   "execution_count": 14,
   "metadata": {},
   "outputs": [
    {
     "name": "stdout",
     "output_type": "stream",
     "text": [
      "General Radative Cooling:\n",
      "Time (years): 1.000000e+15\n",
      "Temperature (K): 57.168462 \n",
      "\n",
      "Radiative cooling of a hot sphere:\n",
      "Time (years): \n",
      "Temperature (K): \n",
      "\n",
      "Accepted value:\n",
      "Time (years): ~1e+15\n",
      "Temperature (K): 5\n"
     ]
    }
   ],
   "source": [
    "#this data was actually retrieved from the data constructed. I thas been parsed for readability.\n",
    "print(\"General Radative Cooling:\")\n",
    "print(\"Time (years): 1.000000e+15\")\n",
    "print(\"Temperature (K): 57.168462 \\n\")\n",
    "print(\"Radiative cooling of a hot sphere:\")\n",
    "print(\"Time (years): \")\n",
    "print(\"Temperature (K): \\n\")\n",
    "print(\"Accepted value:\")\n",
    "print(\"Time (years): ~1e+15\")\n",
    "print(\"Temperature (K): 5\")"
   ]
  },
  {
   "cell_type": "markdown",
   "metadata": {},
   "source": [
    "A brief note is that the relevant data for this section has been displayed manually, however complete tables of the results from the model can be seen in the supplemental materials section of this document."
   ]
  },
  {
   "cell_type": "markdown",
   "metadata": {},
   "source": [
    "It appears that the General radiative cooling method generates reasonable results. The values are about fifty degrees off such that a white dwarf would actually take longer to cool in this model. This makes sense because real white dwarf stars also cool via some additional methods such as neutrino cooling (The star releases neutrino radiation which carries energy away from the star and speeds cooling. This is not accounted for in general radiative cooling methods because neutrino radiation is not significant/applicable for many applications of radiative cooling)."
   ]
  },
  {
   "cell_type": "markdown",
   "metadata": {},
   "source": [
    "The motivating question can now be answered by using the data to find when the white dwarf star cools to 'harvestable temperatures.' What is a harvestable temperature? A harvestable temperature is the temperature under which robots can survive to collect samples and harvest the surface. The Russian Venera robot series were the only robots to survive a significant time (110 minutes) on the surface of Venus (735K) before they melted in the extreme environment of Venus. This provides a convenient upper bound on our harvestable temperature. Humans have built robots which can survive the temperatures of space so a lower bound is not relevant as we can continue harvesting the white dwarf after it has sufficiently cooled."
   ]
  },
  {
   "cell_type": "markdown",
   "metadata": {},
   "source": [
    "The results?"
   ]
  },
  {
   "cell_type": "code",
   "execution_count": 15,
   "metadata": {},
   "outputs": [
    {
     "name": "stdout",
     "output_type": "stream",
     "text": [
      "General Raditaive Cooling:\n",
      "Time (years): 4.830450e+11    Temperature (K) 728.652046\n"
     ]
    }
   ],
   "source": [
    "print(\"General Raditaive Cooling:\")\n",
    "print(\"Time (years): 4.830450e+11    Temperature (K) 728.652046\")"
   ]
  },
  {
   "cell_type": "markdown",
   "metadata": {},
   "source": [
    "# Abstract"
   ]
  },
  {
   "cell_type": "markdown",
   "metadata": {},
   "source": [
    "We created this model to investigate how long it would take for a white dwarf star to cool to harvestable temperatures.\n",
    "Our General radiative cooling model estimates that it will take about $4.83*10^{11}$ years before a white dwarf star will cool to a temperature comperable to the surface of Venus. The graph of the \n",
    "Our model based on the radiative cooling of a hot sphere estimeates that it will take $answer*10^{exponent}$ years to cool to a similar heat. "
   ]
  },
  {
   "cell_type": "markdown",
   "metadata": {},
   "source": [
    "# Suplemental Materials\n",
    "Some data tables have been included here for completeness because they are referenced in the interpretation of the model. However the inclusion of these figures at that point would have been in excess so the relevant data has been highlighted with the complete results being available here."
   ]
  },
  {
   "cell_type": "code",
   "execution_count": 16,
   "metadata": {},
   "outputs": [
    {
     "name": "stdout",
     "output_type": "stream",
     "text": [
      "General Radiative Cooling Results:\n",
      "Temperature                 star_temp\n",
      "0.000000e+00  25000.000000\n",
      "3.168809e-12  25000.000000\n",
      "3.485690e-11  25000.000000\n",
      "3.517378e-10  25000.000000\n",
      "3.520547e-09  25000.000000\n",
      "3.520863e-08  25000.000000\n",
      "3.520895e-07  25000.000000\n",
      "3.520898e-06  25000.000000\n",
      "3.520899e-05  25000.000000\n",
      "3.520899e-04  25000.000000\n",
      "3.520899e-03  24999.999998\n",
      "3.520899e-02  24999.999975\n",
      "3.520899e-01  24999.999754\n",
      "3.520899e+00  24999.997538\n",
      "3.520899e+01  24999.975382\n",
      "3.520899e+02  24999.753821\n",
      "3.520899e+03  24997.538649\n",
      "3.520899e+04  24975.430015\n",
      "3.520899e+05  24758.556191\n",
      "3.520899e+06  22933.480666\n",
      "1.748315e+07  18541.697398\n",
      "3.656754e+07  15684.819989\n",
      "7.252224e+07  13036.043982\n",
      "1.323120e+08  10903.581821\n",
      "2.362672e+08   9098.570173\n",
      "4.140547e+08   7598.888400\n",
      "7.199516e+08   6344.392084\n",
      "1.245106e+09   5297.612573\n",
      "2.147407e+09   4423.356495\n",
      "3.697246e+09   3693.434926\n",
      "6.359622e+09   3083.943977\n",
      "1.093297e+10   2575.036670\n",
      "1.878906e+10   2150.106746\n",
      "3.228414e+10   1795.298828\n",
      "5.546586e+10   1499.040710\n",
      "9.528717e+10   1251.670806\n",
      "1.636918e+11   1045.121571\n",
      "2.811966e+11    872.656848\n",
      "4.830450e+11    728.652046\n",
      "8.297781e+11    608.410744\n",
      "1.425393e+12    508.011517\n",
      "2.448533e+12    424.180051\n",
      "4.206073e+12    354.182353\n",
      "7.225157e+12    295.735591\n",
      "1.241131e+13    246.933644\n",
      "2.132003e+13    206.184936\n",
      "3.662333e+13    172.160531\n",
      "6.291120e+13    143.750794\n",
      "1.080682e+14    120.029198\n",
      "1.856386e+14    100.222114\n",
      "3.188881e+14     83.683575\n",
      "5.477829e+14     69.874212\n",
      "9.409761e+14     58.343663\n",
      "1.000000e+15     57.168462\n"
     ]
    }
   ],
   "source": [
    "print(\"General Radiative Cooling Results:\")\n",
    "print(\"Temperature\", end=\"\")\n",
    "print(rad_gen_results)"
   ]
  },
  {
   "cell_type": "code",
   "execution_count": 17,
   "metadata": {},
   "outputs": [
    {
     "name": "stdout",
     "output_type": "stream",
     "text": [
      "Radiative Hot Sphere Cooling Results:\n",
      "Temperature"
     ]
    }
   ],
   "source": [
    "print(\"Radiative Hot Sphere Cooling Results:\")\n",
    "print(\"Temperature\", end=\"\")\n",
    "#print(hot_sphere_results)"
   ]
  },
  {
   "cell_type": "markdown",
   "metadata": {},
   "source": [
    "# resources"
   ]
  },
  {
   "cell_type": "markdown",
   "metadata": {},
   "source": [
    "Temperature of space\n",
    "https://en.wikipedia.org/wiki/Outer_space\n",
    "\n",
    "Black body emmisivity\n",
    "http://whitedwarf.org/theses/gaensicke.pdf\n",
    "\n",
    "Innital conditions based on Sirius B\n",
    "https://en.wikipedia.org/wiki/Sirius\n",
    "\n",
    "Time for white dwarfs to cool to 5k\n",
    "https://en.wikipedia.org/wiki/Black_dwarf\n",
    "\n",
    "Radiative cooling equation\n",
    "http://hyperphysics.phy-astr.gsu.edu/hbase/thermo/cootime.html\n",
    "\n",
    "Einstein solid equations\n",
    "http://hyperphysics.phy-astr.gsu.edu/hbase/Therm/einsol.html#c1\n",
    "\n",
    "White dwarf crystialization:\n",
    "https://imagine.gsfc.nasa.gov/science/objects/dwarfs2.html\n",
    "\n",
    "Venera Landers\n",
    "http://coolcosmos.ipac.caltech.edu/ask/44-Has-a-spacecraft-ever-landed-on-Venus-\n",
    "\n",
    "Venus temperature\n",
    "https://www.space.com/18526-venus-temperature.html"
   ]
  }
 ],
 "metadata": {
  "kernelspec": {
   "display_name": "Python 3",
   "language": "python",
   "name": "python3"
  },
  "language_info": {
   "codemirror_mode": {
    "name": "ipython",
    "version": 3
   },
   "file_extension": ".py",
   "mimetype": "text/x-python",
   "name": "python",
   "nbconvert_exporter": "python",
   "pygments_lexer": "ipython3",
   "version": "3.6.6"
  }
 },
 "nbformat": 4,
 "nbformat_minor": 2
}

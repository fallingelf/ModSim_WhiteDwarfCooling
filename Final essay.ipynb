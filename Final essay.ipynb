{
 "cells": [
  {
   "cell_type": "code",
   "execution_count": 1,
   "metadata": {},
   "outputs": [],
   "source": [
    "# Configure Jupyter so figures appear in the notebook\n",
    "%matplotlib inline\n",
    "# import functions from the modsim.py module\n",
    "from modsim import *"
   ]
  },
  {
   "cell_type": "markdown",
   "metadata": {},
   "source": [
    "# Background"
   ]
  },
  {
   "cell_type": "markdown",
   "metadata": {},
   "source": [
    "White dwarf 'stars' are the remnants of a standard star (0.5 to 8 times the size of our own sun). These constitute the majoraty of the stars in the universe. For most of it's life, a star like this fuses hydrogen into helium emmiting light as a result. As the star uses up its hydrogen the energy from the fusionin the star becomes weaker. This energy is what resists the star collapsing due to its own gravity. As the energy dwindles, the star shrinks which causes the temperatures in the core of the star to increase. Gradually it will beome hot enough in the core of the sun to fuse helium. Helium starts to fuse and increases the fusion pressure of the star causing the star to expand greatly. The star then enters its red giant phase of its life. Helium is fused into carbon and oxygen, but average stars can never get hot enough to fuse carbon. \n",
    "As the helium is used up the star contracts again. however as it contracts, left over helium and hydrogen re-ignite with the increase in heat. This flings the layers outward expanding the star and cooling the center temperature. Fusion stopss and the star collapses again. Tis is the star's final stage in life where the size of the star oscelates with the outer layers bouncing off the center core. The oscilations get larger and larger as the layers of the star bounce off of eachother. This process continues untill the star flings its outer layers so far out that they do not gravatationally condense again. This leaves the superhot superdense core of carbon(and a bit of oxygen) which could not be fused. \n",
    "This core is called a white dwarf star (it is called this because it glows a bright white because of residual heat but it is not fusing to create more energy hense it is a 'dwarf star.') The white dwarf radiates its heat away gradually. While it is hot the white dwarf contains enough energy to keep its atoms as an ionized superdense plazma; However, as the energy radiates away the structure crystalizes. The properties of this crystal structure are unknown, but the composition has been likened to diamond (this is not entirely accurate as it is much denser and it contains a significant proportion of oxygen however it is an apt comparason as it demonstrates the possible usefulness of the resultant material)."
   ]
  },
  {
   "cell_type": "markdown",
   "metadata": {},
   "source": [
    "# Question\n"
   ]
  },
  {
   "cell_type": "markdown",
   "metadata": {},
   "source": [
    "How long will it take for a white dwarf star to cool to a harvestable temperature?"
   ]
  },
  {
   "cell_type": "markdown",
   "metadata": {},
   "source": [
    "# Model"
   ]
  },
  {
   "cell_type": "markdown",
   "metadata": {},
   "source": [
    "## Useful Functions"
   ]
  },
  {
   "cell_type": "code",
   "execution_count": 2,
   "metadata": {},
   "outputs": [],
   "source": [
    "def surface_area(mass, density, constants):\n",
    "    \"\"\"this function calculates the surface area for a sphere of a given material and uniform composition\n",
    "    mass is the mass of the sphere\n",
    "    density is the duniform density of the material (kg/m^3)\n",
    "    constants is a system object containing fundamental constants\"\"\"\n",
    "    \n",
    "    #calculates the volume of the material\n",
    "    volume = mass/density\n",
    "    \n",
    "    #converts the volume to a sphere and finds the radius\n",
    "    radius = (volume/(4/3)/constants.pi)**(1/3)\n",
    "    \n",
    "    #returns the surface area of the sphere\n",
    "    return 4*constants.pi*(radius**2)"
   ]
  },
  {
   "cell_type": "markdown",
   "metadata": {},
   "source": [
    "## State and System"
   ]
  },
  {
   "cell_type": "markdown",
   "metadata": {},
   "source": [
    "The system and the state are described below. The state holds the curent value of the state of the white dwarf star in the simulation.The system object holds system parameters and fundamental physics constants. the surface area of the star was calculated using the above surface area function and the result was placed into the system to avoid overwriing system values."
   ]
  },
  {
   "cell_type": "code",
   "execution_count": 3,
   "metadata": {},
   "outputs": [],
   "source": [
    "\"\"\"this code creates a the state of the system\n",
    "star_temp is the themperature of the star\"\"\"\n",
    "#creates the state of the function\n",
    "state = State(star_temp = 25000)\n",
    "\n",
    "\"\"\"creates a system with innital values and constants\n",
    "init is the innital state function\n",
    "emmisivity is an innate property of the materials involved. White dwarfs emmit radiation in a near perfict manner which correlates to them having an emmisivity value of very close to 1\n",
    "density is the density of the white dwarf in kg/m^3 and is found by multiplying the density of the sun (1410) times 92,000\n",
    "c is the speed of light\n",
    "sigma is the Stefan–Boltzmann constant which describes radiative cooling\n",
    "k is the Boltzmann constant (different from sigma) which describes the conversion of temperature to internal energy\n",
    "avagadro is avagadro's constant which is representative of the number of particles in a mol\n",
    "solarmass is the mass of our sun\n",
    "carbon_mass_per_mol gives the mass of one mol of carbon in kg/mol\n",
    "pi is the circle constant of mathmatics\n",
    "star_mass is the mass of the white dwarf which is 1.018* the mass of our sun\n",
    "surf_area is the surface area of the star\"\"\"\n",
    "sys = System(init = state,\n",
    "            emissivity  = 1,\n",
    "            density = 92000*1410,\n",
    "            c = 3*10**(8),\n",
    "            sigma = 5.6703*10**(-8),\n",
    "            k = 1.380649*10**(-23), \n",
    "            avagadro = 6.022140857*10**(23),\n",
    "            solar_mass = 1.98847*10**40,\n",
    "            solar_density = 1410,\n",
    "            carbon_mass_per_mol = 12.011 *10**(-3),\n",
    "            pi = 3.1415926535,\n",
    "            year = 31557600,\n",
    "            t_0 = 0,\n",
    "            t_end = 31557600*10**15,\n",
    "            env_temp = 2.7,\n",
    "            star_mass = 1.018*1.98847*10**40,\n",
    "            surf_area = 1.401707440331564e+22)"
   ]
  },
  {
   "cell_type": "markdown",
   "metadata": {},
   "source": [
    "## update function"
   ]
  },
  {
   "cell_type": "markdown",
   "metadata": {},
   "source": [
    "Because of the complex nature of the white dwarf stars we abstracted the model to a simple model of a sphere of uniform solid density cooling via radiative cooling. To show robustness and prove that this is still a useful model of a white dwarf, two different models were created which used this central assumption.\n"
   ]
  },
  {
   "cell_type": "markdown",
   "metadata": {},
   "source": [
    "### Differential equation with einstein solids"
   ]
  },
  {
   "cell_type": "markdown",
   "metadata": {},
   "source": [
    "For our first model, we started with a differential equation for raditative cooling."
   ]
  },
  {
   "cell_type": "markdown",
   "metadata": {},
   "source": [
    "$ \\frac{dE_{star}}{dtime}=\\epsilon*\\sigma*A_{surface}*(T_{star}^4 - T_{environmant}^4)$"
   ]
  },
  {
   "cell_type": "markdown",
   "metadata": {},
   "source": [
    "We combined this equation tith an expression for internal energy in terms of temperature based on an einstein solid.\n",
    "This method approximates the vibration of each particle as a quantum harmonic oscillator (a particle which is bounded to a set space and oscilates around that space in accordance with the laws of quantum mechanics). The internal energy is then equated as the sum of these vibrations and mathmatically simplified to the equation below. "
   ]
  },
  {
   "cell_type": "markdown",
   "metadata": {},
   "source": [
    "$E_{internal} = N_{particles}*k*T$"
   ]
  },
  {
   "cell_type": "markdown",
   "metadata": {},
   "source": [
    "A brief note about einstein solids, they are a very good approximation for the internal energy of a solid in terms of the temperature of the solid because particles in a solid are restricted in such a way that they do behave as near idealized quantum harmonic oscilators. This method was also chosen over the standard specific heat method of converting internal energy to temperature, because specific heat assumes a constantspecific heat independient of temperature which is accurate until high temperatures (like those in recently formed white dwarfs). Also the specific heat of white dwarf material has not yet been measured."
   ]
  },
  {
   "cell_type": "markdown",
   "metadata": {},
   "source": [
    "The number of particles was found by using standard molar conversions. For the sake of this calculation we assumed that a white dwarf is constituted entirely of carbon (no specific data on the percent compositions of white dwarfs could be found however there is a concensus that white dwarfs are mostly carbon with a proportion of oxygen which could cause this modeling approximation to be inaccurate)"
   ]
  },
  {
   "cell_type": "markdown",
   "metadata": {},
   "source": [
    "$N_{particles} = \\frac{mass}{carbon_{\\frac{mass}{mol}}}*N_{a}$"
   ]
  },
  {
   "cell_type": "markdown",
   "metadata": {},
   "source": [
    "Thus the final differential equation is the following where $N_{a}$ is avogadro's constant and $k$ is the boltzman constant"
   ]
  },
  {
   "cell_type": "markdown",
   "metadata": {},
   "source": [
    "$ \\frac{dT_{star}}{dtime}=\\frac{\\epsilon*\\sigma*A_{surface}*(T_{star}^4 - T_{environmant}^4)}{\\frac{mass}{carbon_{\\frac{mass}{mol}}}*N_{a}*k}$"
   ]
  },
  {
   "cell_type": "markdown",
   "metadata": {},
   "source": [
    "This diferential equation was then used to create a slope function"
   ]
  },
  {
   "cell_type": "code",
   "execution_count": 9,
   "metadata": {},
   "outputs": [],
   "source": [
    "def e_solid_slope_func(state,time, sys):\n",
    "    star_temp = state\n",
    "    #converts the differential equation for the temperature into code\n",
    "    dstar_tempdt = -(sys.emissivity*sys.sigma*sys.surf_area*(star_temp**4 - sys.env_temp**4))/(((sys.star_mass/sys.carbon_mass_per_mol)*sys.avagadro)*sys.k)\n",
    "    #updates the temperature\n",
    "    return dstar_tempdt"
   ]
  },
  {
   "cell_type": "markdown",
   "metadata": {},
   "source": [
    "# Results"
   ]
  },
  {
   "cell_type": "markdown",
   "metadata": {},
   "source": [
    "The results for the first model are shown below. The simulation was run by an ODE solver to optimize the time steps that were taken."
   ]
  },
  {
   "cell_type": "code",
   "execution_count": 11,
   "metadata": {},
   "outputs": [
    {
     "data": {
      "image/png": "[encoded data removed]",
      "text/plain": [
       "<Figure size 432x288 with 1 Axes>"
      ]
     },
     "metadata": {},
     "output_type": "display_data"
    }
   ],
   "source": [
    "#runs the simulation with an ODE solver\n",
    "results,details = run_ode_solver(sys,e_solid_slope_func)\n",
    "\n",
    "#Converts the time indexes from years into seconds\n",
    "results.index /= sys.year\n",
    "\n",
    "#plots the results\n",
    "results.plot()\n",
    "\n",
    "#decorates the plot and turns it tnto a semilog plot\n",
    "decorate (xscale = \"log\", xlabel = \"Time(years)\", ylabel = \"Star Temperature (K) \", title = \"White Dwarf Star Cooling (Einstein Solid)\")"
   ]
  },
  {
   "cell_type": "markdown",
   "metadata": {},
   "source": [
    "# Interperitation"
   ]
  },
  {
   "cell_type": "markdown",
   "metadata": {},
   "source": [
    "# Abstract"
   ]
  },
  {
   "cell_type": "code",
   "execution_count": null,
   "metadata": {},
   "outputs": [],
   "source": []
  },
  {
   "cell_type": "markdown",
   "metadata": {},
   "source": [
    "# resources"
   ]
  },
  {
   "cell_type": "markdown",
   "metadata": {},
   "source": [
    "Temperature of space\n",
    "https://en.wikipedia.org/wiki/Outer_space\n",
    "\n",
    "Black body emmisivity\n",
    "http://whitedwarf.org/theses/gaensicke.pdf\n",
    "\n",
    "Innital conditions based on Sirius B\n",
    "https://en.wikipedia.org/wiki/Sirius\n",
    "\n",
    "Radiative cooling equation\n",
    "http://hyperphysics.phy-astr.gsu.edu/hbase/thermo/cootime.html\n",
    "\n",
    "Einstein solid equations\n",
    "http://hyperphysics.phy-astr.gsu.edu/hbase/Therm/einsol.html#c1\n",
    "\n",
    "White dwarf crystialization:\n",
    "https://imagine.gsfc.nasa.gov/science/objects/dwarfs2.html"
   ]
  },
  {
   "cell_type": "code",
   "execution_count": null,
   "metadata": {},
   "outputs": [],
   "source": []
  }
 ],
 "metadata": {
  "kernelspec": {
   "display_name": "Python 3",
   "language": "python",
   "name": "python3"
  },
  "language_info": {
   "codemirror_mode": {
    "name": "ipython",
    "version": 3
   },
   "file_extension": ".py",
   "mimetype": "text/x-python",
   "name": "python",
   "nbconvert_exporter": "python",
   "pygments_lexer": "ipython3",
   "version": "3.6.6"
  }
 },
 "nbformat": 4,
 "nbformat_minor": 2
}

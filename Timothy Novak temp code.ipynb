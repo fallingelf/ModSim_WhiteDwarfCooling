{
 "cells": [
  {
   "cell_type": "code",
   "execution_count": 1,
   "metadata": {},
   "outputs": [],
   "source": [
    "# Configure Jupyter so figures appear in the notebook\n",
    "%matplotlib inline\n",
    "# import functions from the modsim.py module\n",
    "from modsim import *"
   ]
  },
  {
   "cell_type": "markdown",
   "metadata": {},
   "source": [
    "# Question\n"
   ]
  },
  {
   "cell_type": "markdown",
   "metadata": {},
   "source": [
    "# Model"
   ]
  },
  {
   "cell_type": "markdown",
   "metadata": {},
   "source": [
    "## Constants\n",
    "This is a system object which contains relevant mathmatical and physics related constants"
   ]
  },
  {
   "cell_type": "code",
   "execution_count": null,
   "metadata": {},
   "outputs": [],
   "source": [
    "\"\"\"Creates a system object which stores all of the relevant physics constants not specific to the situation being modeled\n",
    "c is the speed of light\n",
    "sigma is the Stefan–Boltzmann constant which describes radiative cooling\n",
    "k is the Boltzmann constant (different from sigma) which describes the conversion of temperature to internal energy\n",
    "avagadro is avagadro's constant which is representative of the number of particles in a mol\n",
    "solarmass is the mass of our sun\n",
    "carbon_mass_per_mol gives the mass of one mol of carbon in kg/mol\n",
    "pi is the circle constant of mathmatics\"\"\"\n",
    "constants = System(c = 3*10**(8),\n",
    "                   sigma = 5.6703*10**(-8),\n",
    "                   k = 1.380649*10**(-23), \n",
    "                   avagadro = 6.022140857*10**(23),\n",
    "                   solar_mass = 1.98847*10**40,\n",
    "                   solar_density = 1410,\n",
    "                   carbon_mass_per_mol = 12.011 *10**(-3),\n",
    "                   pi = 3.1415926535)"
   ]
  },
  {
   "cell_type": "markdown",
   "metadata": {},
   "source": [
    "## Useful Functions"
   ]
  },
  {
   "cell_type": "code",
   "execution_count": 1,
   "metadata": {},
   "outputs": [],
   "source": [
    "def temp_to_energy(temp, mass, masspermol,constants):\n",
    "    \"\"\"This function converts a temperature into the corrasponding internal energy\n",
    "    temp is the temperature to be converted\n",
    "    mass is the mass of the object which is being measured\n",
    "    masspermol is the mass for one mole of the substance which makes up the object (kg/mol) *this assumes that the object is of uniform composition\n",
    "    constants is a system object containing fundamental physics constants\"\"\"\n",
    "    \n",
    "    #calculates the nuber of particles in the object by calculating the number of mols of the substance and multiplying by avagadro's constant\n",
    "    num_particles = (mass/masspermol)*constants.avagadro\n",
    "    \n",
    "    #returns the internal energy of the object based on the mathmatical formula for an einstein solid\n",
    "    return num_particles*constants.k*temp\n",
    "\n",
    "def surface_area(mass, density, constants):\n",
    "    \"\"\"this function calculates the surface area for a sphere of a given material and uniform composition\n",
    "    mass is the mass of the sphere\n",
    "    density is the duniform density of the material (kg/m^3)\n",
    "    constants is a system object containing fundamental constants\"\"\"\n",
    "    \n",
    "    #calculates the volume of the material\n",
    "    volume = mass/density\n",
    "    \n",
    "    #converts the volume to a sphere and finds the radius\n",
    "    radius = (volume/(4/3)/constants.pi)**(1/3)\n",
    "    \n",
    "    #returns the surface area of the sphere\n",
    "    return 4*constants.pi*(radius**2)"
   ]
  },
  {
   "cell_type": "markdown",
   "metadata": {},
   "source": [
    "## State and System"
   ]
  },
  {
   "cell_type": "code",
   "execution_count": null,
   "metadata": {},
   "outputs": [],
   "source": [
    "\"\"\"this code creates a the state of the system\n",
    "star_temp is the themperature of the star\n",
    "star_energy is the internal energy of the star\n",
    "star_mass is the mass of the star\n",
    "surf_area is the surface area of the star\"\"\"\n",
    "#creates the state of the function\n",
    "st8 = State(star_temp = 25000,\n",
    "            env_temp = 2.7,\n",
    "            star_energy = 0,\n",
    "            star_mass = 1.018*constants.solar_mass,\n",
    "            surf_area = 0)\n",
    "\n",
    "#creates the starting energy value of the white dwarf\n",
    "st8.star_energy = temp_to_energy(st8.star_temp,st8.star_mass, constants.carbon_mass_per_mol, constants)\n",
    "\n",
    "\"\"\"creates a system with innital values and constants\n",
    "init is the innital state function\n",
    "emmisivity is an innate property of the materials involved. White dwarfs emmit radiation in a near perfict manner which correlates to them having an emmisivity value of very close to 1\n",
    "density is the density of the white dwarf in kg/m^3 and is found by multiplying the density of the sun times 92,000\"\"\"\n",
    "sys = System(init = st8,\n",
    "            emissivity  = 1,\n",
    "            density = 92000*constants.solar_density)\n",
    "\n",
    "#creates the starting value of the surface area of the white dwarf\n",
    "st8.surf_area = surface_area(st8.star_mass,sys.density, constants)\n",
    "\n",
    "#update the innital value of the state in the system object\n",
    "sys.init = st8"
   ]
  },
  {
   "cell_type": "markdown",
   "metadata": {},
   "source": [
    "## update function"
   ]
  },
  {
   "cell_type": "code",
   "execution_count": null,
   "metadata": {},
   "outputs": [],
   "source": [
    "def upd8func(st8,sys,constants):\n",
    "    \n",
    "    #converts the differential equation for the internal energy to code\n",
    "    dstar_energydt = sys.emissivity*constants.sigma*st8.surf_area*(st8.star_temp**4 - st8.env_temp**4)\n",
    "    #TODO update state variables and account for anything else that is changing"
   ]
  },
  {
   "cell_type": "markdown",
   "metadata": {},
   "source": [
    "# Results"
   ]
  },
  {
   "cell_type": "markdown",
   "metadata": {},
   "source": [
    "# Interperitation"
   ]
  },
  {
   "cell_type": "markdown",
   "metadata": {},
   "source": [
    "# Abstract"
   ]
  },
  {
   "cell_type": "code",
   "execution_count": null,
   "metadata": {},
   "outputs": [],
   "source": []
  }
 ],
 "metadata": {
  "kernelspec": {
   "display_name": "Python 3",
   "language": "python",
   "name": "python3"
  },
  "language_info": {
   "codemirror_mode": {
    "name": "ipython",
    "version": 3
   },
   "file_extension": ".py",
   "mimetype": "text/x-python",
   "name": "python",
   "nbconvert_exporter": "python",
   "pygments_lexer": "ipython3",
   "version": "3.6.5"
  }
 },
 "nbformat": 4,
 "nbformat_minor": 2
}
